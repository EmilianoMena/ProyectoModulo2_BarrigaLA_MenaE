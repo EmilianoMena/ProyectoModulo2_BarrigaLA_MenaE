{
 "cells": [
  {
   "cell_type": "markdown",
   "id": "e377294f",
   "metadata": {},
   "source": [
    "<img style=\"float: left; margin: 30px 15px 15px 15px;\" src=\"https://upload.wikimedia.org/wikipedia/commons/d/db/Logo_ITESO_normal.jpg\" width=\"125\" height=\"160\" /> \n",
    "    \n",
    "    \n",
    "### <font color='navy'> Simulación de procesos financieros. \n",
    "\n",
    "**Nombres:** Luis Antonio Barriga Adame y Emiliano Mena González.\n",
    "\n",
    "**Fecha:** 30 de marzo del 2023.\n",
    "\n",
    "**Expediente** : 730512 y 728407.\n",
    "    \n",
    "**Profesor:** Oscar David Jaramillo Zuluaga.\n",
    "    \n",
    "**Link Github**: https://github.com/EmilianoMena/ProyectoModulo2_BarrigaLA_MenaE\n",
    "\n",
    "# Proyecto TEMA-2"
   ]
  },
  {
   "cell_type": "markdown",
   "id": "a0891fd4",
   "metadata": {},
   "source": [
    "# Definición del Proyecto\n",
    "\n",
    "El problema que se tiene es estimar la cantidad de puntos que obtendrá el Milan en la siguiente temporada de la Serie A, para ello se cuenta con una base de datos con las estadisticas de las últimas 17 temporadas. \n",
    "\n",
    "La Serie A es un torneo de liga nacional (Italia) donde participan 20 equipos, el formato de competición es partidos todos contra todos a lo largo de 38 jornadas. En cada jornada se juegan 10 partidos y al final de la temporada se acomodan los equipos en una tabla ordenada por los puntos que consigan. La puntuación es de 3 puntos por ganar el partido, 1 punto por empatar el partido y 0 por perder el partido.\n",
    "\n",
    "La base de datos con la que se trabajara cuenta con la temporada, jornada, equipo local, equipo visitante, goles del equipo local, goles del equipo visitante, goles al medio tiempo del local y goles al medio tiempo del visitante. Con todos estos datos se puede sacar la cantidad de puntos que obtuvieron cada uno de los equipos después de cada partido.\n",
    "\n",
    "Entonces para poder simular el total de puntos obtenidos por el equipo, tenemos que:\n",
    "\n",
    "1. Simular los goles del equipo local al medio tiempo.\n",
    "2. Simular los goles del equipo visitante al medio tiempo.\n",
    "3. Simular los goles del equipo local al final del partido.\n",
    "4. Simular los goles del equipo visitante al final del partido.\n",
    "5. Asignar el puntaje para el equipo local.\n",
    "6. Asignar el puntaje para el equipo visitante.\n",
    "7. Simular para cada jornada.\n",
    "8. Sumar los puntos de todas las jornadas y obtener los puntos de la temporada."
   ]
  },
  {
   "cell_type": "markdown",
   "id": "bf361df6",
   "metadata": {},
   "source": [
    "<img style=\"float: left; margin: 30px 15px 15px 15px;\" src=\"Diagrama_corregido.png\" width=\"1500\" height=\"2000\" /> "
   ]
  }
 ],
 "metadata": {
  "kernelspec": {
   "display_name": "Python 3",
   "language": "python",
   "name": "python3"
  },
  "language_info": {
   "codemirror_mode": {
    "name": "ipython",
    "version": 3
   },
   "file_extension": ".py",
   "mimetype": "text/x-python",
   "name": "python",
   "nbconvert_exporter": "python",
   "pygments_lexer": "ipython3",
   "version": "3.8.8"
  }
 },
 "nbformat": 4,
 "nbformat_minor": 5
}
