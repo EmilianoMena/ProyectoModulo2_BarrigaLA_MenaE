{
 "cells": [
  {
   "cell_type": "markdown",
   "id": "e377294f",
   "metadata": {},
   "source": [
    "<img style=\"float: left; margin: 30px 15px 15px 15px;\" src=\"https://upload.wikimedia.org/wikipedia/commons/d/db/Logo_ITESO_normal.jpg\" width=\"125\" height=\"160\" /> \n",
    "    \n",
    "    \n",
    "### <font color='navy'> Simulación de procesos financieros. \n",
    "\n",
    "**Nombres:** Luis Antonio Barriga Adame y Emiliano Mena González.\n",
    "\n",
    "**Fecha:** 30 de marzo del 2023.\n",
    "\n",
    "**Expediente** : 730512 y 728407.\n",
    "    \n",
    "**Profesor:** Oscar David Jaramillo Zuluaga.\n",
    "    \n",
    "**Link Github**: https://github.com/EmilianoMena/ProyectoModulo2_BarrigaLA_MenaE\n",
    "\n",
    "# Proyecto TEMA-2"
   ]
  },
  {
   "cell_type": "markdown",
   "id": "a0891fd4",
   "metadata": {},
   "source": [
    "# Definición del Proyecto\n",
    "\n",
    "El problema seleccionado es la simulación de los puntos que tendrá un equipo para la siguiente temporada de la Serie A. Para entender de mejor manera el problema primero definiremos ciertos aspectos a considerar:\n",
    "\n",
    "- El equipo seleccionado es el Milan.\n",
    "- La Serie A es una liga nacional (Italia) que cuenta con la participación de 20 equipos.\n",
    "- El formato de competencia es un todos contra todos, o sea que cada equipo jugará contra los otros 19 equipos en dos vueltas (local y visitante).\n",
    "- En total se tienen 38 jornadas (días de juego), por lo que cada equipo juega 38 partidos.\n",
    "- Cada partido se divide en dos tiempos (primer y segundo tiempo), el resultado que importa es el de al final del segundo tiempo.\n",
    "- El equipo que meta mas goles ganará el partido, si se anotan los mismos goles por cada equipo se queda empate y el equipo con menos goles pierde.\n",
    "- Si un equipo gana suma 3 puntos, si empata suma 1 punto y si pierde no suma puntos.\n",
    "- Todos los equipos al final de la temporada definen su puesto en la tabla general en base a los puntos totales que generó.\n",
    "\n",
    "Los nodos que se identificaron para la solución del problema son los siguientes:\n",
    "\n",
    "1. Simular los goles del equipo local al medio tiempo.\n",
    "2. Simular los goles del equipo visitante al medio tiempo.\n",
    "3. Simular los goles del equipo local al final del partido.\n",
    "4. Simular los goles del equipo visitante al final del partido.\n",
    "5. Asignar el puntaje para el equipo local.\n",
    "6. Asignar el puntaje para el equipo visitante.\n",
    "7. Simular para cada jornada.\n",
    "8. Sumar los puntos de todas las jornadas y obtener los puntos de la temporada.\n",
    "\n",
    "A continuación se muestra el diagrama del problema:\n",
    "\n",
    "<img style=\"float: left; margin: 30px 15px 15px 15px;\" src=\"Diagrama_corregido.png\" width=\"1500\" height=\"2000\" /> \n",
    "\n",
    "\n"
   ]
  },
  {
   "cell_type": "markdown",
   "id": "72b12b52",
   "metadata": {},
   "source": [
    "# Definición de hipótesis y supuestos\n"
   ]
  },
  {
   "cell_type": "markdown",
   "id": "3087a30b",
   "metadata": {},
   "source": [
    "# Obtención de bases de datos\n",
    "Se obtuvo una base de datos de Kaggle con los datos de cada partido de la Serie desde la temporada 2005/2006 hasta la 2021/2022 (en total 17 temporadas). En esta base de datos viene:\n",
    "\n",
    "- Temporada\n",
    "- Jornada o ronda \n",
    "- Equipo local \n",
    "- Equipo visitante\n",
    "- Goles del equipo local\n",
    "- Goles del equipo visitante\n",
    "- Goles del equipo local al final del primer tiempo\n",
    "- Goles del equipo visitante al final del primer tiempo\n",
    "\n",
    "Se realizó una limpieza de datos de todos los partidos de la temporada 2022/2023 pues esta no cuenta con todos los datos. Y se agregaron nuevas columnas de datos que son importantes para la simulación, estas son:\n",
    "\n",
    "- Goles del equipo local al final del segundo tiempo\n",
    "- Goles del equipo visitante al final del segundo tiempo\n",
    "- Puntos obtenidos por el equipo local\n",
    "- Puntos obtenidos por el equipo visitante\n",
    "\n",
    "A continuación se muestra la base de datos."
   ]
  },
  {
   "cell_type": "code",
   "execution_count": 1,
   "id": "15477811",
   "metadata": {},
   "outputs": [],
   "source": [
    "# Librerias y dependencias necesarias\n",
    "import pandas as pd\n",
    "import matplotlib.pyplot as plt\n",
    "import numpy as np\n",
    "import scipy.stats as st   \n",
    "import statsmodels.api as sm \n",
    "from distfit import distfit\n",
    "# Ignorar warnings\n",
    "import warnings\n",
    "warnings.filterwarnings(\"ignore\")"
   ]
  },
  {
   "cell_type": "code",
   "execution_count": 2,
   "id": "762f563d",
   "metadata": {
    "scrolled": false
   },
   "outputs": [
    {
     "data": {
      "text/html": [
       "<div>\n",
       "<style scoped>\n",
       "    .dataframe tbody tr th:only-of-type {\n",
       "        vertical-align: middle;\n",
       "    }\n",
       "\n",
       "    .dataframe tbody tr th {\n",
       "        vertical-align: top;\n",
       "    }\n",
       "\n",
       "    .dataframe thead th {\n",
       "        text-align: right;\n",
       "    }\n",
       "</style>\n",
       "<table border=\"1\" class=\"dataframe\">\n",
       "  <thead>\n",
       "    <tr style=\"text-align: right;\">\n",
       "      <th></th>\n",
       "      <th>Round</th>\n",
       "      <th>Home Team</th>\n",
       "      <th>Away Team</th>\n",
       "      <th>Home Goals</th>\n",
       "      <th>Away Goals</th>\n",
       "      <th>Home FH Goals</th>\n",
       "      <th>Away FH Goals</th>\n",
       "      <th>Home SH Goals</th>\n",
       "      <th>Away SH Goals</th>\n",
       "      <th>Home Points</th>\n",
       "      <th>Away Points</th>\n",
       "    </tr>\n",
       "    <tr>\n",
       "      <th>Season</th>\n",
       "      <th></th>\n",
       "      <th></th>\n",
       "      <th></th>\n",
       "      <th></th>\n",
       "      <th></th>\n",
       "      <th></th>\n",
       "      <th></th>\n",
       "      <th></th>\n",
       "      <th></th>\n",
       "      <th></th>\n",
       "      <th></th>\n",
       "    </tr>\n",
       "  </thead>\n",
       "  <tbody>\n",
       "    <tr>\n",
       "      <th>5</th>\n",
       "      <td>1</td>\n",
       "      <td>Chievo</td>\n",
       "      <td>Inter</td>\n",
       "      <td>2</td>\n",
       "      <td>2</td>\n",
       "      <td>2</td>\n",
       "      <td>1</td>\n",
       "      <td>0</td>\n",
       "      <td>1</td>\n",
       "      <td>1</td>\n",
       "      <td>1</td>\n",
       "    </tr>\n",
       "    <tr>\n",
       "      <th>5</th>\n",
       "      <td>1</td>\n",
       "      <td>Milan</td>\n",
       "      <td>Livorno</td>\n",
       "      <td>2</td>\n",
       "      <td>2</td>\n",
       "      <td>1</td>\n",
       "      <td>1</td>\n",
       "      <td>1</td>\n",
       "      <td>1</td>\n",
       "      <td>1</td>\n",
       "      <td>1</td>\n",
       "    </tr>\n",
       "    <tr>\n",
       "      <th>5</th>\n",
       "      <td>1</td>\n",
       "      <td>Parma</td>\n",
       "      <td>Messina</td>\n",
       "      <td>0</td>\n",
       "      <td>0</td>\n",
       "      <td>0</td>\n",
       "      <td>0</td>\n",
       "      <td>0</td>\n",
       "      <td>0</td>\n",
       "      <td>1</td>\n",
       "      <td>1</td>\n",
       "    </tr>\n",
       "    <tr>\n",
       "      <th>5</th>\n",
       "      <td>1</td>\n",
       "      <td>Roma</td>\n",
       "      <td>Fiorentina</td>\n",
       "      <td>1</td>\n",
       "      <td>0</td>\n",
       "      <td>0</td>\n",
       "      <td>0</td>\n",
       "      <td>1</td>\n",
       "      <td>0</td>\n",
       "      <td>3</td>\n",
       "      <td>0</td>\n",
       "    </tr>\n",
       "    <tr>\n",
       "      <th>5</th>\n",
       "      <td>1</td>\n",
       "      <td>Atalanta</td>\n",
       "      <td>Lecce</td>\n",
       "      <td>2</td>\n",
       "      <td>2</td>\n",
       "      <td>1</td>\n",
       "      <td>1</td>\n",
       "      <td>1</td>\n",
       "      <td>1</td>\n",
       "      <td>1</td>\n",
       "      <td>1</td>\n",
       "    </tr>\n",
       "    <tr>\n",
       "      <th>...</th>\n",
       "      <td>...</td>\n",
       "      <td>...</td>\n",
       "      <td>...</td>\n",
       "      <td>...</td>\n",
       "      <td>...</td>\n",
       "      <td>...</td>\n",
       "      <td>...</td>\n",
       "      <td>...</td>\n",
       "      <td>...</td>\n",
       "      <td>...</td>\n",
       "      <td>...</td>\n",
       "    </tr>\n",
       "    <tr>\n",
       "      <th>21</th>\n",
       "      <td>38</td>\n",
       "      <td>Bologna</td>\n",
       "      <td>Juventus</td>\n",
       "      <td>1</td>\n",
       "      <td>4</td>\n",
       "      <td>0</td>\n",
       "      <td>3</td>\n",
       "      <td>1</td>\n",
       "      <td>1</td>\n",
       "      <td>0</td>\n",
       "      <td>3</td>\n",
       "    </tr>\n",
       "    <tr>\n",
       "      <th>21</th>\n",
       "      <td>38</td>\n",
       "      <td>Torino</td>\n",
       "      <td>Benevento</td>\n",
       "      <td>1</td>\n",
       "      <td>1</td>\n",
       "      <td>1</td>\n",
       "      <td>0</td>\n",
       "      <td>0</td>\n",
       "      <td>1</td>\n",
       "      <td>1</td>\n",
       "      <td>1</td>\n",
       "    </tr>\n",
       "    <tr>\n",
       "      <th>21</th>\n",
       "      <td>38</td>\n",
       "      <td>Napoli</td>\n",
       "      <td>Hellas Verona</td>\n",
       "      <td>1</td>\n",
       "      <td>1</td>\n",
       "      <td>0</td>\n",
       "      <td>0</td>\n",
       "      <td>1</td>\n",
       "      <td>1</td>\n",
       "      <td>1</td>\n",
       "      <td>1</td>\n",
       "    </tr>\n",
       "    <tr>\n",
       "      <th>21</th>\n",
       "      <td>38</td>\n",
       "      <td>Spezia</td>\n",
       "      <td>Roma</td>\n",
       "      <td>2</td>\n",
       "      <td>2</td>\n",
       "      <td>2</td>\n",
       "      <td>0</td>\n",
       "      <td>0</td>\n",
       "      <td>2</td>\n",
       "      <td>1</td>\n",
       "      <td>1</td>\n",
       "    </tr>\n",
       "    <tr>\n",
       "      <th>21</th>\n",
       "      <td>38</td>\n",
       "      <td>Sassuolo</td>\n",
       "      <td>Lazio</td>\n",
       "      <td>2</td>\n",
       "      <td>0</td>\n",
       "      <td>1</td>\n",
       "      <td>0</td>\n",
       "      <td>1</td>\n",
       "      <td>0</td>\n",
       "      <td>3</td>\n",
       "      <td>0</td>\n",
       "    </tr>\n",
       "  </tbody>\n",
       "</table>\n",
       "<p>6460 rows × 11 columns</p>\n",
       "</div>"
      ],
      "text/plain": [
       "        Round Home Team      Away Team  Home Goals  Away Goals  Home FH Goals  \\\n",
       "Season                                                                          \n",
       "5           1    Chievo          Inter           2           2              2   \n",
       "5           1     Milan        Livorno           2           2              1   \n",
       "5           1     Parma        Messina           0           0              0   \n",
       "5           1      Roma     Fiorentina           1           0              0   \n",
       "5           1  Atalanta          Lecce           2           2              1   \n",
       "...       ...       ...            ...         ...         ...            ...   \n",
       "21         38   Bologna       Juventus           1           4              0   \n",
       "21         38    Torino      Benevento           1           1              1   \n",
       "21         38    Napoli  Hellas Verona           1           1              0   \n",
       "21         38    Spezia           Roma           2           2              2   \n",
       "21         38  Sassuolo          Lazio           2           0              1   \n",
       "\n",
       "        Away FH Goals  Home SH Goals  Away SH Goals  Home Points  Away Points  \n",
       "Season                                                                         \n",
       "5                   1              0              1            1            1  \n",
       "5                   1              1              1            1            1  \n",
       "5                   0              0              0            1            1  \n",
       "5                   0              1              0            3            0  \n",
       "5                   1              1              1            1            1  \n",
       "...               ...            ...            ...          ...          ...  \n",
       "21                  3              1              1            0            3  \n",
       "21                  0              0              1            1            1  \n",
       "21                  0              1              1            1            1  \n",
       "21                  0              0              2            1            1  \n",
       "21                  0              1              0            3            0  \n",
       "\n",
       "[6460 rows x 11 columns]"
      ]
     },
     "execution_count": 2,
     "metadata": {},
     "output_type": "execute_result"
    }
   ],
   "source": [
    "# Cargar la base de datos\n",
    "data = pd.read_csv(\"Serie_A.csv\", index_col=\"Season\")\n",
    "# Limpieza de los datos (Eliminar datos del 2022 pués aún no termina la temporada)\n",
    "data = data.drop([22])\n",
    "# Agregar los goles del local en el segundo tiempo (Goles al final del partido - Goles al final del medio tiempo)\n",
    "data[\"Home SH Goals\"] = data[\"Home Goals\"] - data[\"Home FH Goals\"]\n",
    "# Agregar los goles del visitante en el segundo tiempo (Goles al final del partido - Goles al final del medio tiempo)\n",
    "data[\"Away SH Goals\"] = data[\"Away Goals\"] - data[\"Away FH Goals\"]\n",
    "# Agregar los puntos obtenidos por partido del equipo local\n",
    "data[\"Home Points\"] = np.select([\n",
    "    (data[\"Home Goals\"]>data[\"Away Goals\"]),\n",
    "    (data[\"Home Goals\"]==data[\"Away Goals\"]),\n",
    "    (data[\"Home Goals\"]<data[\"Away Goals\"])\n",
    "    ],[3,1,0])\n",
    "# Agregar los puntos obtenidos por partido del equipo visitante\n",
    "data[\"Away Points\"] = np.select([\n",
    "    (data[\"Away Goals\"]>data[\"Home Goals\"]),\n",
    "    (data[\"Away Goals\"]==data[\"Home Goals\"]),\n",
    "    (data[\"Away Goals\"]<data[\"Home Goals\"])\n",
    "    ],[3,1,0])\n",
    "# Mostrar el Dataset\n",
    "data"
   ]
  },
  {
   "cell_type": "code",
   "execution_count": 3,
   "id": "26899531",
   "metadata": {
    "scrolled": false
   },
   "outputs": [],
   "source": [
    "# Obtener los datos de los partidos del Milan de local\n",
    "local = data[data[\"Home Team\"] == \"Milan\"]\n",
    "# Obtener los datos de los partidos del Milan de visitante\n",
    "visitante = data[data[\"Away Team\"] == \"Milan\"]"
   ]
  },
  {
   "cell_type": "markdown",
   "id": "705195f9",
   "metadata": {},
   "source": [
    "# Simulación de los nodos"
   ]
  },
  {
   "cell_type": "code",
   "execution_count": 21,
   "id": "a5229c7a",
   "metadata": {},
   "outputs": [],
   "source": [
    "# Nodos para los partidos de local\n",
    "nodo1 = local[\"Home FH Goals\"].values\n",
    "nodo2 = local[\"Away FH Goals\"].values\n",
    "nodo3 = local[\"Home SH Goals\"].values\n",
    "nodo4 = local[\"Away SH Goals\"].values\n",
    "# Nodos para los partidos de visitante\n",
    "nodo5 = visitante[\"Home FH Goals\"].values\n",
    "nodo6 = visitante[\"Away FH Goals\"].values\n",
    "nodo7 = visitante[\"Home SH Goals\"].values\n",
    "nodo8 = visitante[\"Away SH Goals\"].values"
   ]
  },
  {
   "cell_type": "code",
   "execution_count": 22,
   "id": "446eeaf9",
   "metadata": {},
   "outputs": [
    {
     "data": {
      "image/png": "[encoded data removed]",
      "text/plain": [
       "<Figure size 640x480 with 1 Axes>"
      ]
     },
     "metadata": {},
     "output_type": "display_data"
    }
   ],
   "source": [
    "# Nodo 1\n",
    "plt.hist(nodo1);"
   ]
  },
  {
   "cell_type": "code",
   "execution_count": 23,
   "id": "10241189",
   "metadata": {},
   "outputs": [
    {
     "name": "stderr",
     "output_type": "stream",
     "text": [
      "[distfit] >INFO> fit\n",
      "[distfit] >INFO> transform\n",
      "[distfit] >INFO> Fit using binomial distribution.\n",
      "[distfit] >INFO> [distfit] >[binomial] [RSS=9.44e-05] [n=8] [p=0.096356] [chi^2=3.15e-05]\n",
      "[distfit] >INFO> Compute confidence intervals [discrete]\n"
     ]
    },
    {
     "data": {
      "image/png": "[encoded data removed]",
      "text/plain": [
       "<Figure size 640x480 with 1 Axes>"
      ]
     },
     "metadata": {},
     "output_type": "display_data"
    }
   ],
   "source": [
    "# Simulación del nodo 1\n",
    "# Parámetros para la distribución discreta\n",
    "dfit1 = distfit(method='discrete')\n",
    "dfit1.fit_transform(nodo1)\n",
    "# Gráfica de los valores simulados\n",
    "plt.hist(st.binom(dfit1.model['n'],dfit1.model['p']).rvs(1000));"
   ]
  },
  {
   "cell_type": "code",
   "execution_count": 24,
   "id": "68015f82",
   "metadata": {},
   "outputs": [
    {
     "data": {
      "image/png": "[encoded data removed]",
      "text/plain": [
       "<Figure size 640x480 with 1 Axes>"
      ]
     },
     "metadata": {},
     "output_type": "display_data"
    }
   ],
   "source": [
    "# Nodo 2\n",
    "plt.hist(nodo2);"
   ]
  },
  {
   "cell_type": "code",
   "execution_count": 25,
   "id": "21dbd145",
   "metadata": {},
   "outputs": [
    {
     "name": "stderr",
     "output_type": "stream",
     "text": [
      "[distfit] >INFO> fit\n",
      "[distfit] >INFO> transform\n",
      "[distfit] >INFO> Fit using binomial distribution.\n",
      "[distfit] >INFO> [distfit] >[binomial] [RSS=2.2e-06] [n=4] [p=0.100727] [chi^2=1.1e-06]\n",
      "[distfit] >INFO> Compute confidence intervals [discrete]\n"
     ]
    },
    {
     "data": {
      "image/png": "[encoded data removed]",
      "text/plain": [
       "<Figure size 640x480 with 1 Axes>"
      ]
     },
     "metadata": {},
     "output_type": "display_data"
    }
   ],
   "source": [
    "# Simulación del nodo 2\n",
    "# Parámetros para la distribución discreta\n",
    "dfit2 = distfit(method='discrete')\n",
    "dfit2.fit_transform(nodo2)\n",
    "# Gráfica de los valores simulados\n",
    "plt.hist(st.binom(dfit2.model['n'],dfit2.model['p']).rvs(1000));"
   ]
  },
  {
   "cell_type": "code",
   "execution_count": 26,
   "id": "e1bfad87",
   "metadata": {},
   "outputs": [
    {
     "data": {
      "image/png": "[encoded data removed]",
      "text/plain": [
       "<Figure size 640x480 with 1 Axes>"
      ]
     },
     "metadata": {},
     "output_type": "display_data"
    }
   ],
   "source": [
    "# Nodo 3\n",
    "plt.hist(nodo3);"
   ]
  },
  {
   "cell_type": "code",
   "execution_count": 27,
   "id": "b31f6183",
   "metadata": {},
   "outputs": [
    {
     "name": "stderr",
     "output_type": "stream",
     "text": [
      "[distfit] >INFO> fit\n",
      "[distfit] >INFO> transform\n",
      "[distfit] >INFO> Fit using binomial distribution.\n",
      "[distfit] >INFO> [distfit] >[binomial] [RSS=0.000988] [n=24] [p=0.041512] [chi^2=0.000329]\n",
      "[distfit] >INFO> Compute confidence intervals [discrete]\n"
     ]
    },
    {
     "data": {
      "image/png": "[encoded data removed]",
      "text/plain": [
       "<Figure size 640x480 with 1 Axes>"
      ]
     },
     "metadata": {},
     "output_type": "display_data"
    }
   ],
   "source": [
    "# Simulación del nodo 3\n",
    "# Parámetros para la distribución discreta\n",
    "dfit3 = distfit(method='discrete')\n",
    "dfit3.fit_transform(nodo3)\n",
    "# Gráfica de los valores simulados\n",
    "plt.hist(st.binom(dfit3.model['n'],dfit3.model['p']).rvs(1000));"
   ]
  },
  {
   "cell_type": "code",
   "execution_count": 28,
   "id": "9b3b5cf5",
   "metadata": {},
   "outputs": [
    {
     "data": {
      "image/png": "[encoded data removed]",
      "text/plain": [
       "<Figure size 640x480 with 1 Axes>"
      ]
     },
     "metadata": {},
     "output_type": "display_data"
    }
   ],
   "source": [
    "# Nodo 4\n",
    "plt.hist(nodo4);"
   ]
  },
  {
   "cell_type": "code",
   "execution_count": 29,
   "id": "55a0b704",
   "metadata": {},
   "outputs": [
    {
     "name": "stderr",
     "output_type": "stream",
     "text": [
      "[distfit] >INFO> fit\n",
      "[distfit] >INFO> transform\n",
      "[distfit] >INFO> Fit using binomial distribution.\n",
      "[distfit] >INFO> [distfit] >[binomial] [RSS=0.000345] [n=23] [p=0.0215905] [chi^2=0.000172]\n",
      "[distfit] >INFO> Compute confidence intervals [discrete]\n"
     ]
    },
    {
     "data": {
      "text/plain": [
       "Text(0.5, 1.0, 'Histograma de los valores simulados')"
      ]
     },
     "execution_count": 29,
     "metadata": {},
     "output_type": "execute_result"
    },
    {
     "data": {
      "image/png": "[encoded data removed]",
      "text/plain": [
       "<Figure size 640x480 with 1 Axes>"
      ]
     },
     "metadata": {},
     "output_type": "display_data"
    }
   ],
   "source": [
    "# Simulación del nodo 4\n",
    "# Parámetros para la distribución discreta\n",
    "dfit4 = distfit(method='discrete')\n",
    "dfit4.fit_transform(nodo4)\n",
    "# Gráfica de los valores simulados\n",
    "plt.hist(st.binom(dfit4.model['n'],dfit4.model['p']).rvs(1000));\n",
    "plt.title(\"Histograma de los valores simulados\")"
   ]
  }
 ],
 "metadata": {
  "kernelspec": {
   "display_name": "Python 3 (ipykernel)",
   "language": "python",
   "name": "python3"
  },
  "language_info": {
   "codemirror_mode": {
    "name": "ipython",
    "version": 3
   },
   "file_extension": ".py",
   "mimetype": "text/x-python",
   "name": "python",
   "nbconvert_exporter": "python",
   "pygments_lexer": "ipython3",
   "version": "3.9.13"
  }
 },
 "nbformat": 4,
 "nbformat_minor": 5
}
