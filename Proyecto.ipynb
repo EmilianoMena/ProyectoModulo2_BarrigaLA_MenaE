{
 "cells": [
  {
   "cell_type": "markdown",
   "id": "e377294f",
   "metadata": {},
   "source": [
    "<img style=\"float: left; margin: 30px 15px 15px 15px;\" src=\"https://upload.wikimedia.org/wikipedia/commons/d/db/Logo_ITESO_normal.jpg\" width=\"125\" height=\"160\" /> \n",
    "    \n",
    "    \n",
    "### <font color='navy'> Simulación de procesos financieros. \n",
    "\n",
    "**Nombres:** Luis Antonio Barriga Adame y Emiliano Mena González.\n",
    "\n",
    "**Fecha:** 25 de abril del 2023.\n",
    "\n",
    "**Expediente** : 730512 y 728407.\n",
    "    \n",
    "**Profesor:** Oscar David Jaramillo Zuluaga.\n",
    "    \n",
    "**Link Github**: https://github.com/EmilianoMena/ProyectoModulo2_BarrigaLA_MenaE\n",
    "\n",
    "# Proyecto TEMA-2"
   ]
  },
  {
   "cell_type": "markdown",
   "id": "a0891fd4",
   "metadata": {},
   "source": [
    "# Estimación de los puntos para la siguiente temporada del Milan\n",
    "\n",
    "## Objetivos\n",
    "\n",
    "Objetivo general: \n",
    "- Obtener el número de puntos que generará el Milan la siguiente temporada de la Serie A\n",
    "\n",
    "Objetivos específicos:\n",
    "- Simular los goles del equipo local en el primer tiempo\n",
    "- Simular los goles del equipo local en el segundo tiempo\n",
    "- Simular los goles del equipo visitante en el primer tiempo\n",
    "- Simular los goles del equipo visitante en el segundo tiempo\n",
    "- Calcular los puntos generados por el equipo local \n",
    "- Calcular los puntos generados por el equipo visitante\n",
    "\n",
    "## Definición del Proyecto\n",
    "Se debe describir en una cuartilla máximo cuál es el escenario de negocio que se va a modelar, identificar cuáles son los supuestos que defines en el negocio y cuáles son los \"nodos\" o \"escenarios\" que identificas necesarios simular y porqué. Debes elaborar un diagrama de inicio a fin, identificando los \"nodos\" o \"escenarios\" a simular.\n",
    "\n",
    "El escenario que se va a modelar es el puntuaje de un equipo de futbol para una temporada. Para ello se seleccionó al equipo AC Milan de la Serie A (liga nacional de Italia) y se modelarán los puntos que obtendra para la temporada 2022/2023. Primero es importante saber que la Serie A es una liga en la que participan 20 equipos (incluyendo al AC Milan) y el formato de competencia que se tiene es de todos contra todos en ida y vuelta, osea que cada equipo jugará contra los otros 19 equipos 2 partidos (en uno serán locales y en el otro visitantes). Considerando esto se sabe que la temporada consta de 38 jornadas (puesto que cada equipo jugara 38 partidos).\n",
    "\n",
    "Ahora en cada partido se tienen 2 tiempos (primer y segundo tiempo) de 45 minutos cada uno, el equipo que al final de los 90 minutos anote más goles ganará el partido y con ello conseguirá 3 puntos, en caso de que ambos equipos anoten la misma cantidad de puntos cada equipo conseguirá 1 punto y el equipo que anote menos goles perderá y no conseguirá puntos.\n",
    "\n",
    "Después de cada jornada se actualizá la tabla de los equipos y al final de la temporada se tiene en la tabla la suma de todos los puntos obtenidos por cada equipo.\n",
    "\n",
    "Los nodos que se identificaron para la solución del problema son los siguientes:\n",
    "\n",
    "1. Partidos de local o de visitante.\n",
    "1. Goles del equipo local en el primer tiempo.\n",
    "2. Goles del equipo local en el segundo tiempo.\n",
    "3. Goles del equipo visitante en el primer tiempo.\n",
    "4. Goles del equipo visitante en el segundo tiempo.\n",
    "5. Puntos del equipo local y visitante.\n",
    "\n",
    "A continuación se muestra el diagrama del problema:\n",
    "\n",
    "<img style=\"float: left; margin: 30px 15px 15px 15px;\" src=\"Diagrama.png\" width=\"900\" height=\"1200\" /> \n",
    "\n",
    "## Nodos y Variables\n",
    "\n",
    "Como se aprecia en el diagrama del modelo del problema primero se parte de que hay dos escenarios (partidos de visitante o partidos de local) dentro de cada escenario se tienen 4 nodos que son los elegidos para la simulación. Estos nodos son:\n",
    "\n",
    "1. Goles del equipo local en el primer tiempo.\n",
    "2. Goles del equipo local en el segundo tiempo.\n",
    "3. Goles del equipo visitante en el primer tiempo.\n",
    "4. Goles del equipo visitante en el segundo tiempo.\n",
    "\n",
    "La selección de los nodos fue por que al simular estos se puede obtener un resultado final del partido (sumando los goles de cada equipo del primer tiempo y del segundo tiempo) y una vez que se tengan los resultados lo que resta es asignar los puntos dependiendo el marcador y finalmente sumar los puntos al equipo ya sean los de local o visitante dependiendo de como jugaron.\n",
    "\n",
    "## Definición de hipotesis y supuestos\n",
    "Algunos supuestos del modelo son:\n",
    "- Los goles de cada equipo y en cada tiempo tienen su propia probabilidad por lo que cada uno se tiene que simular por aparte.\n",
    "- El resultado final de cada encuentro es la suma de los goles de cada equipo en ambos tiempos.\n",
    "- Los puntos se asignan en base al resultado (ganar 3 puntos, empate 1 punto y perder 0 puntos)\n",
    "- Se espera que al ser locales ganen más partidos que cuando son visitantes."
   ]
  },
  {
   "cell_type": "markdown",
   "id": "3087a30b",
   "metadata": {},
   "source": [
    "## Obtención de bases de datos\n",
    "Se obtuvo una base de datos de Kaggle con los datos de cada partido de la Serie desde la temporada 2005/2006 hasta la 2021/2022 (en total 17 temporadas). En esta base de datos viene:\n",
    "\n",
    "- Temporada\n",
    "- Jornada o ronda \n",
    "- Equipo local \n",
    "- Equipo visitante\n",
    "- Goles del equipo local\n",
    "- Goles del equipo visitante\n",
    "- Goles del equipo local al final del primer tiempo\n",
    "- Goles del equipo visitante al final del primer tiempo\n",
    "\n",
    "Se realizó una limpieza de datos de todos los partidos de la temporada 2022/2023 pues esta no cuenta con todos los datos. Y se agregaron nuevas columnas de datos que son importantes para la simulación, estas son:\n",
    "\n",
    "- Goles del equipo local al final del segundo tiempo\n",
    "- Goles del equipo visitante al final del segundo tiempo\n",
    "- Puntos obtenidos por el equipo local\n",
    "- Puntos obtenidos por el equipo visitante\n",
    "\n",
    "A continuación se muestra la base de datos."
   ]
  },
  {
   "cell_type": "code",
   "execution_count": 1,
   "id": "15477811",
   "metadata": {},
   "outputs": [],
   "source": [
    "# Librerias y dependencias necesarias\n",
    "import pandas as pd\n",
    "import matplotlib.pyplot as plt\n",
    "import numpy as np\n",
    "import scipy.stats as st   "
   ]
  },
  {
   "cell_type": "code",
   "execution_count": 2,
   "id": "762f563d",
   "metadata": {
    "scrolled": false
   },
   "outputs": [
    {
     "data": {
      "text/html": [
       "<div>\n",
       "<style scoped>\n",
       "    .dataframe tbody tr th:only-of-type {\n",
       "        vertical-align: middle;\n",
       "    }\n",
       "\n",
       "    .dataframe tbody tr th {\n",
       "        vertical-align: top;\n",
       "    }\n",
       "\n",
       "    .dataframe thead th {\n",
       "        text-align: right;\n",
       "    }\n",
       "</style>\n",
       "<table border=\"1\" class=\"dataframe\">\n",
       "  <thead>\n",
       "    <tr style=\"text-align: right;\">\n",
       "      <th></th>\n",
       "      <th>Round</th>\n",
       "      <th>Home Team</th>\n",
       "      <th>Away Team</th>\n",
       "      <th>Home Goals</th>\n",
       "      <th>Away Goals</th>\n",
       "      <th>Home FH Goals</th>\n",
       "      <th>Away FH Goals</th>\n",
       "      <th>Home SH Goals</th>\n",
       "      <th>Away SH Goals</th>\n",
       "      <th>Home Points</th>\n",
       "      <th>Away Points</th>\n",
       "    </tr>\n",
       "    <tr>\n",
       "      <th>Season</th>\n",
       "      <th></th>\n",
       "      <th></th>\n",
       "      <th></th>\n",
       "      <th></th>\n",
       "      <th></th>\n",
       "      <th></th>\n",
       "      <th></th>\n",
       "      <th></th>\n",
       "      <th></th>\n",
       "      <th></th>\n",
       "      <th></th>\n",
       "    </tr>\n",
       "  </thead>\n",
       "  <tbody>\n",
       "    <tr>\n",
       "      <th>5</th>\n",
       "      <td>1</td>\n",
       "      <td>Chievo</td>\n",
       "      <td>Inter</td>\n",
       "      <td>2</td>\n",
       "      <td>2</td>\n",
       "      <td>2</td>\n",
       "      <td>1</td>\n",
       "      <td>0</td>\n",
       "      <td>1</td>\n",
       "      <td>1</td>\n",
       "      <td>1</td>\n",
       "    </tr>\n",
       "    <tr>\n",
       "      <th>5</th>\n",
       "      <td>1</td>\n",
       "      <td>Milan</td>\n",
       "      <td>Livorno</td>\n",
       "      <td>2</td>\n",
       "      <td>2</td>\n",
       "      <td>1</td>\n",
       "      <td>1</td>\n",
       "      <td>1</td>\n",
       "      <td>1</td>\n",
       "      <td>1</td>\n",
       "      <td>1</td>\n",
       "    </tr>\n",
       "    <tr>\n",
       "      <th>5</th>\n",
       "      <td>1</td>\n",
       "      <td>Parma</td>\n",
       "      <td>Messina</td>\n",
       "      <td>0</td>\n",
       "      <td>0</td>\n",
       "      <td>0</td>\n",
       "      <td>0</td>\n",
       "      <td>0</td>\n",
       "      <td>0</td>\n",
       "      <td>1</td>\n",
       "      <td>1</td>\n",
       "    </tr>\n",
       "    <tr>\n",
       "      <th>5</th>\n",
       "      <td>1</td>\n",
       "      <td>Roma</td>\n",
       "      <td>Fiorentina</td>\n",
       "      <td>1</td>\n",
       "      <td>0</td>\n",
       "      <td>0</td>\n",
       "      <td>0</td>\n",
       "      <td>1</td>\n",
       "      <td>0</td>\n",
       "      <td>3</td>\n",
       "      <td>0</td>\n",
       "    </tr>\n",
       "    <tr>\n",
       "      <th>5</th>\n",
       "      <td>1</td>\n",
       "      <td>Atalanta</td>\n",
       "      <td>Lecce</td>\n",
       "      <td>2</td>\n",
       "      <td>2</td>\n",
       "      <td>1</td>\n",
       "      <td>1</td>\n",
       "      <td>1</td>\n",
       "      <td>1</td>\n",
       "      <td>1</td>\n",
       "      <td>1</td>\n",
       "    </tr>\n",
       "    <tr>\n",
       "      <th>...</th>\n",
       "      <td>...</td>\n",
       "      <td>...</td>\n",
       "      <td>...</td>\n",
       "      <td>...</td>\n",
       "      <td>...</td>\n",
       "      <td>...</td>\n",
       "      <td>...</td>\n",
       "      <td>...</td>\n",
       "      <td>...</td>\n",
       "      <td>...</td>\n",
       "      <td>...</td>\n",
       "    </tr>\n",
       "    <tr>\n",
       "      <th>21</th>\n",
       "      <td>38</td>\n",
       "      <td>Bologna</td>\n",
       "      <td>Juventus</td>\n",
       "      <td>1</td>\n",
       "      <td>4</td>\n",
       "      <td>0</td>\n",
       "      <td>3</td>\n",
       "      <td>1</td>\n",
       "      <td>1</td>\n",
       "      <td>0</td>\n",
       "      <td>3</td>\n",
       "    </tr>\n",
       "    <tr>\n",
       "      <th>21</th>\n",
       "      <td>38</td>\n",
       "      <td>Torino</td>\n",
       "      <td>Benevento</td>\n",
       "      <td>1</td>\n",
       "      <td>1</td>\n",
       "      <td>1</td>\n",
       "      <td>0</td>\n",
       "      <td>0</td>\n",
       "      <td>1</td>\n",
       "      <td>1</td>\n",
       "      <td>1</td>\n",
       "    </tr>\n",
       "    <tr>\n",
       "      <th>21</th>\n",
       "      <td>38</td>\n",
       "      <td>Napoli</td>\n",
       "      <td>Hellas Verona</td>\n",
       "      <td>1</td>\n",
       "      <td>1</td>\n",
       "      <td>0</td>\n",
       "      <td>0</td>\n",
       "      <td>1</td>\n",
       "      <td>1</td>\n",
       "      <td>1</td>\n",
       "      <td>1</td>\n",
       "    </tr>\n",
       "    <tr>\n",
       "      <th>21</th>\n",
       "      <td>38</td>\n",
       "      <td>Spezia</td>\n",
       "      <td>Roma</td>\n",
       "      <td>2</td>\n",
       "      <td>2</td>\n",
       "      <td>2</td>\n",
       "      <td>0</td>\n",
       "      <td>0</td>\n",
       "      <td>2</td>\n",
       "      <td>1</td>\n",
       "      <td>1</td>\n",
       "    </tr>\n",
       "    <tr>\n",
       "      <th>21</th>\n",
       "      <td>38</td>\n",
       "      <td>Sassuolo</td>\n",
       "      <td>Lazio</td>\n",
       "      <td>2</td>\n",
       "      <td>0</td>\n",
       "      <td>1</td>\n",
       "      <td>0</td>\n",
       "      <td>1</td>\n",
       "      <td>0</td>\n",
       "      <td>3</td>\n",
       "      <td>0</td>\n",
       "    </tr>\n",
       "  </tbody>\n",
       "</table>\n",
       "<p>6460 rows × 11 columns</p>\n",
       "</div>"
      ],
      "text/plain": [
       "        Round Home Team      Away Team  Home Goals  Away Goals  Home FH Goals  \\\n",
       "Season                                                                          \n",
       "5           1    Chievo          Inter           2           2              2   \n",
       "5           1     Milan        Livorno           2           2              1   \n",
       "5           1     Parma        Messina           0           0              0   \n",
       "5           1      Roma     Fiorentina           1           0              0   \n",
       "5           1  Atalanta          Lecce           2           2              1   \n",
       "...       ...       ...            ...         ...         ...            ...   \n",
       "21         38   Bologna       Juventus           1           4              0   \n",
       "21         38    Torino      Benevento           1           1              1   \n",
       "21         38    Napoli  Hellas Verona           1           1              0   \n",
       "21         38    Spezia           Roma           2           2              2   \n",
       "21         38  Sassuolo          Lazio           2           0              1   \n",
       "\n",
       "        Away FH Goals  Home SH Goals  Away SH Goals  Home Points  Away Points  \n",
       "Season                                                                         \n",
       "5                   1              0              1            1            1  \n",
       "5                   1              1              1            1            1  \n",
       "5                   0              0              0            1            1  \n",
       "5                   0              1              0            3            0  \n",
       "5                   1              1              1            1            1  \n",
       "...               ...            ...            ...          ...          ...  \n",
       "21                  3              1              1            0            3  \n",
       "21                  0              0              1            1            1  \n",
       "21                  0              1              1            1            1  \n",
       "21                  0              0              2            1            1  \n",
       "21                  0              1              0            3            0  \n",
       "\n",
       "[6460 rows x 11 columns]"
      ]
     },
     "execution_count": 2,
     "metadata": {},
     "output_type": "execute_result"
    }
   ],
   "source": [
    "# Cargar la base de datos\n",
    "data = pd.read_csv(\"Serie_A.csv\", index_col=\"Season\")\n",
    "# Limpieza de los datos (Eliminar datos de la temporada 2022/2023 pués aún no termina la temporada)\n",
    "data = data.drop([22])\n",
    "# Agregar los goles del local y visitante en el segundo tiempo (Goles al final del partido - Goles al final del medio tiempo)\n",
    "data[\"Home SH Goals\"] = data[\"Home Goals\"] - data[\"Home FH Goals\"]\n",
    "data[\"Away SH Goals\"] = data[\"Away Goals\"] - data[\"Away FH Goals\"]\n",
    "# Agregar los puntos obtenidos por partido del equipo local y visitante\n",
    "data[\"Home Points\"] = np.select([(data[\"Home Goals\"]>data[\"Away Goals\"]), (data[\"Home Goals\"]==data[\"Away Goals\"]),\n",
    "    (data[\"Home Goals\"]<data[\"Away Goals\"])],[3,1,0])\n",
    "data[\"Away Points\"] = np.select([(data[\"Away Goals\"]>data[\"Home Goals\"]), (data[\"Away Goals\"]==data[\"Home Goals\"]),\n",
    "    (data[\"Away Goals\"]<data[\"Home Goals\"])],[3,1,0])\n",
    "# Mostrar el Dataset\n",
    "data"
   ]
  },
  {
   "cell_type": "code",
   "execution_count": 3,
   "id": "26899531",
   "metadata": {
    "scrolled": false
   },
   "outputs": [],
   "source": [
    "# Separar los datos para el AC Milan en sus partidos como local\n",
    "local = data[data[\"Home Team\"] == \"Milan\"]\n",
    "# Separar los datos para el AC Milan en sus partidos como visitante\n",
    "visitante = data[data[\"Away Team\"] == \"Milan\"]"
   ]
  },
  {
   "cell_type": "markdown",
   "id": "705195f9",
   "metadata": {},
   "source": [
    "## Simulación de los nodos"
   ]
  },
  {
   "cell_type": "markdown",
   "id": "8c9ec27b",
   "metadata": {},
   "source": [
    "Definir los nodos que se simularán, en este caso se separan en dos grupos (los nodos de partidos como local y los nodos como partidos de visitantes). Son en total 8 nodos."
   ]
  },
  {
   "cell_type": "code",
   "execution_count": 4,
   "id": "30dc7c72",
   "metadata": {},
   "outputs": [],
   "source": [
    "# Nodos para los partidos de local\n",
    "nodo1 = local[\"Home FH Goals\"].values\n",
    "nodo2 = local[\"Away FH Goals\"].values\n",
    "nodo3 = local[\"Home SH Goals\"].values\n",
    "nodo4 = local[\"Away SH Goals\"].values\n",
    "# Nodos para los partidos de visitante\n",
    "nodo5 = visitante[\"Home FH Goals\"].values\n",
    "nodo6 = visitante[\"Away FH Goals\"].values\n",
    "nodo7 = visitante[\"Home SH Goals\"].values\n",
    "nodo8 = visitante[\"Away SH Goals\"].values\n",
    "# Lista de los nodos\n",
    "lista = [\"Home FH Goals\", \"Away FH Goals\", \"Home SH Goals\", \"Away SH Goals\"]"
   ]
  },
  {
   "cell_type": "markdown",
   "id": "f020be11",
   "metadata": {},
   "source": [
    "### Generación de variables discretas en base a los datos"
   ]
  },
  {
   "cell_type": "markdown",
   "id": "fe45e187",
   "metadata": {},
   "source": [
    "Como los valores de los nodos se distribuyen de forma discreta, directamente se descarta el Kernel Density Estimation para obtener la función de probabilidad y generamos directamente las variables aleatorias discretas en base a la probabilidad acumulada de cada nodo."
   ]
  },
  {
   "cell_type": "code",
   "execution_count": 5,
   "id": "efa3c37b",
   "metadata": {},
   "outputs": [],
   "source": [
    "# Transformada inversa para generar variables discretas\n",
    "def Gen_distr_discreta(p_acum: 'P.Acumulada de la distribución a generar',\n",
    "                       indices: 'valores reales a generar aleatoriamente',\n",
    "                       N: 'cantidad de números aleatorios a generar'):\n",
    "    # Generar los números uniformes\n",
    "    U =np.random.rand(N)\n",
    "    # Diccionario de valores aleatorios\n",
    "    rand2reales = {i: idx for i, idx in enumerate(indices)}\n",
    "    # Series de los valores aletorios\n",
    "    y = pd.Series([sum([1 for p in p_acum if p < ui]) for ui in U]).map(rand2reales)\n",
    "    # Resultado\n",
    "    return y"
   ]
  },
  {
   "cell_type": "code",
   "execution_count": 6,
   "id": "4f20d383",
   "metadata": {},
   "outputs": [],
   "source": [
    "# Gráfica de histograma de variables discretas\n",
    "def plot_histogram_discrete(distribucion:'señal de varibles aleatorias de un distribución DISCRETA dada',\n",
    "                            label:'label del legend a aparecer en el gráfica',\n",
    "                            densidad:'por defecto regresa el histograma en densidad'=True):\n",
    "    plt.figure(figsize=[10,4])\n",
    "    y, bins = np.histogram(distribucion, bins=len(set(distribucion)), density=densidad) \n",
    "    plt.bar(list(set(distribucion)), y, label=label)\n",
    "    plt.legend()\n",
    "    plt.show()"
   ]
  },
  {
   "cell_type": "markdown",
   "id": "787214c6",
   "metadata": {},
   "source": [
    "Primero se trabajarán los nodos de partidos de local (del nodo 1 al nodo 4)"
   ]
  },
  {
   "cell_type": "code",
   "execution_count": 42,
   "id": "1a7b9fb5",
   "metadata": {},
   "outputs": [
    {
     "data": {
      "image/png": "[encoded data removed]",
      "text/plain": [
       "<Figure size 720x288 with 1 Axes>"
      ]
     },
     "metadata": {
      "needs_background": "light"
     },
     "output_type": "display_data"
    },
    {
     "data": {
      "image/png": "[encoded data removed]",
      "text/plain": [
       "<Figure size 720x288 with 1 Axes>"
      ]
     },
     "metadata": {
      "needs_background": "light"
     },
     "output_type": "display_data"
    },
    {
     "data": {
      "image/png": "[encoded data removed]",
      "text/plain": [
       "<Figure size 720x288 with 1 Axes>"
      ]
     },
     "metadata": {
      "needs_background": "light"
     },
     "output_type": "display_data"
    },
    {
     "data": {
      "image/png": "[encoded data removed]",
      "text/plain": [
       "<Figure size 720x288 with 1 Axes>"
      ]
     },
     "metadata": {
      "needs_background": "light"
     },
     "output_type": "display_data"
    }
   ],
   "source": [
    "# Gráficas de los nodos 1, 2, 3, 4\n",
    "nodos_local = [nodo1, nodo2, nodo3, nodo4] # Datos de cada nodo\n",
    "label_local = [\"Nodo 1:Home FH Goals\", \"Nodo 2:Away FH Goals\", \"Nodo 3:Home SH Goals\", \"Nodo 4:Away SH Goals\"]\n",
    "list(map(lambda dist, label: plot_histogram_discrete(dist, label), nodos_local, label_local));"
   ]
  },
  {
   "cell_type": "code",
   "execution_count": 43,
   "id": "5aed2f98",
   "metadata": {
    "scrolled": true
   },
   "outputs": [
    {
     "data": {
      "image/png": "[encoded data removed]",
      "text/plain": [
       "<Figure size 720x288 with 1 Axes>"
      ]
     },
     "metadata": {
      "needs_background": "light"
     },
     "output_type": "display_data"
    },
    {
     "data": {
      "image/png": "[encoded data removed]",
      "text/plain": [
       "<Figure size 720x288 with 1 Axes>"
      ]
     },
     "metadata": {
      "needs_background": "light"
     },
     "output_type": "display_data"
    },
    {
     "data": {
      "image/png": "[encoded data removed]",
      "text/plain": [
       "<Figure size 720x288 with 1 Axes>"
      ]
     },
     "metadata": {
      "needs_background": "light"
     },
     "output_type": "display_data"
    },
    {
     "data": {
      "image/png": "[encoded data removed]",
      "text/plain": [
       "<Figure size 720x288 with 1 Axes>"
      ]
     },
     "metadata": {
      "needs_background": "light"
     },
     "output_type": "display_data"
    }
   ],
   "source": [
    "# Generar las variables de los partidos de local\n",
    "N = 10000\n",
    "val_local = [sorted(local[i].unique()) for i in lista] # Indices de cada nodo\n",
    "p_ocur_local = list(map(lambda i, k: local.value_counts([i]).values / len(k), lista, nodos_local)) # Probabilidad de ocurrencia\n",
    "p_acum_local = [np.cumsum(i) for i in p_ocur_local] # Probabilidad acumulada\n",
    "dist_local = list(map(lambda p_acum, indices: Gen_distr_discreta(p_acum, indices, N), p_acum_local, val_local)) # Generación de las variables\n",
    "# Mostrar las gráficas\n",
    "list(map(lambda dist, label: plot_histogram_discrete(dist, label), dist_local, label_local));"
   ]
  },
  {
   "cell_type": "markdown",
   "id": "c9eff343",
   "metadata": {},
   "source": [
    "Se puede ver los histogramas con la generación de 10,000 valores como se ajusta de buena forma a los valores originales que estan en la parte superior."
   ]
  },
  {
   "cell_type": "markdown",
   "id": "ad6ec344",
   "metadata": {},
   "source": [
    "Ahora se trabaján los nodos para los partidos de visitante (5, 6, 7, 8)"
   ]
  },
  {
   "cell_type": "code",
   "execution_count": 44,
   "id": "44fabc5d",
   "metadata": {},
   "outputs": [
    {
     "data": {
      "image/png": "[encoded data removed]",
      "text/plain": [
       "<Figure size 720x288 with 1 Axes>"
      ]
     },
     "metadata": {
      "needs_background": "light"
     },
     "output_type": "display_data"
    },
    {
     "data": {
      "image/png": "[encoded data removed]",
      "text/plain": [
       "<Figure size 720x288 with 1 Axes>"
      ]
     },
     "metadata": {
      "needs_background": "light"
     },
     "output_type": "display_data"
    },
    {
     "data": {
      "image/png": "[encoded data removed]",
      "text/plain": [
       "<Figure size 720x288 with 1 Axes>"
      ]
     },
     "metadata": {
      "needs_background": "light"
     },
     "output_type": "display_data"
    },
    {
     "data": {
      "image/png": "[encoded data removed]",
      "text/plain": [
       "<Figure size 720x288 with 1 Axes>"
      ]
     },
     "metadata": {
      "needs_background": "light"
     },
     "output_type": "display_data"
    }
   ],
   "source": [
    "# Gráficas de los nodos 5, 6, 7, 8\n",
    "nodos_visitante = [nodo5, nodo6, nodo7, nodo8] # Datos de cada nodo\n",
    "label_visitante = [\"Nodo 5:Home FH Goals\", \"Nodo 6:Away FH Goals\", \"Nodo 7:Home SH Goals\", \"Nodo 8:Away SH Goals\"]\n",
    "list(map(lambda dist, label: plot_histogram_discrete(dist, label), nodos_visitante, label_visitante));"
   ]
  },
  {
   "cell_type": "code",
   "execution_count": 45,
   "id": "8c3e8637",
   "metadata": {},
   "outputs": [
    {
     "data": {
      "image/png": "[encoded data removed]",
      "text/plain": [
       "<Figure size 720x288 with 1 Axes>"
      ]
     },
     "metadata": {
      "needs_background": "light"
     },
     "output_type": "display_data"
    },
    {
     "data": {
      "image/png": "[encoded data removed]",
      "text/plain": [
       "<Figure size 720x288 with 1 Axes>"
      ]
     },
     "metadata": {
      "needs_background": "light"
     },
     "output_type": "display_data"
    },
    {
     "data": {
      "image/png": "[encoded data removed]",
      "text/plain": [
       "<Figure size 720x288 with 1 Axes>"
      ]
     },
     "metadata": {
      "needs_background": "light"
     },
     "output_type": "display_data"
    },
    {
     "data": {
      "image/png": "[encoded data removed]",
      "text/plain": [
       "<Figure size 720x288 with 1 Axes>"
      ]
     },
     "metadata": {
      "needs_background": "light"
     },
     "output_type": "display_data"
    }
   ],
   "source": [
    "# Generar las variables de los partidos de visitante\n",
    "val_visitante = [sorted(visitante[i].unique()) for i in lista] # Indices de cada nodo\n",
    "p_ocur_visitante = list(map(lambda i, k: visitante.value_counts([i]).values / len(k), lista, nodos_visitante)) # Probabilidad de ocurrencia\n",
    "p_acum_visitante = [np.cumsum(i) for i in p_ocur_visitante] # Probabilidad acumulada\n",
    "dist_visitante = list(map(lambda p_acum, indices: Gen_distr_discreta(p_acum, indices, N), p_acum_visitante, val_visitante)) # Generación de las variables\n",
    "# Mostrar las gráficas\n",
    "list(map(lambda dist, label: plot_histogram_discrete(dist, label), dist_visitante, label_visitante));"
   ]
  },
  {
   "cell_type": "markdown",
   "id": "82d4739c",
   "metadata": {},
   "source": [
    "### Reducción de varianza"
   ]
  },
  {
   "cell_type": "markdown",
   "id": "c6cc315a",
   "metadata": {},
   "source": [
    "Para reducir la varianza en la generación de las variables discretas, primero modificaremos la función de generación de variables discretas. Ahora las variables aleatorias se definiran fuera de la función. Para estas variables aleatorias aplicaremos la reducción de varianza de complementarios."
   ]
  },
  {
   "cell_type": "code",
   "execution_count": 11,
   "id": "89966020",
   "metadata": {},
   "outputs": [],
   "source": [
    "def Gen_distr_discreta_mod(\n",
    "    p_acum: 'P.Acumulada de la distribución a generar',\n",
    "    indices: 'valores reales a generar aleatoriamente',\n",
    "    N: 'cantidad de números aleatorios a generar', \n",
    "    U: 'Variables aleatorias'\n",
    "):\n",
    "    # Diccionario de valores aleatorios\n",
    "    rand2reales = {i: idx for i, idx in enumerate(indices)}\n",
    "    # Series de los valores aletorios\n",
    "    y = pd.Series([sum([1 for p in p_acum if p < ui]) for ui in U]).map(rand2reales)\n",
    "    return y"
   ]
  },
  {
   "cell_type": "code",
   "execution_count": 46,
   "id": "027472fb",
   "metadata": {},
   "outputs": [
    {
     "data": {
      "image/png": "[encoded data removed]",
      "text/plain": [
       "<Figure size 720x288 with 1 Axes>"
      ]
     },
     "metadata": {
      "needs_background": "light"
     },
     "output_type": "display_data"
    },
    {
     "data": {
      "image/png": "[encoded data removed]",
      "text/plain": [
       "<Figure size 720x288 with 1 Axes>"
      ]
     },
     "metadata": {
      "needs_background": "light"
     },
     "output_type": "display_data"
    },
    {
     "data": {
      "image/png": "[encoded data removed]",
      "text/plain": [
       "<Figure size 720x288 with 1 Axes>"
      ]
     },
     "metadata": {
      "needs_background": "light"
     },
     "output_type": "display_data"
    },
    {
     "data": {
      "image/png": "[encoded data removed]",
      "text/plain": [
       "<Figure size 720x288 with 1 Axes>"
      ]
     },
     "metadata": {
      "needs_background": "light"
     },
     "output_type": "display_data"
    }
   ],
   "source": [
    "u = np.random.rand(N) # Variables aleatorias\n",
    "u_c = 1 - u # Complemento de las variables aleatorias\n",
    "U_estra = np.concatenate([u, u_c]) # Nuevas variables aleatorias\n",
    "dist_local_estra = list(map(lambda p_acum, indices: Gen_distr_discreta_mod(p_acum, indices, N, U_estra), p_acum_local, val_local))\n",
    "list(map(lambda dist, label: plot_histogram_discrete(dist, label), dist_local_estra, label_local));"
   ]
  },
  {
   "cell_type": "code",
   "execution_count": 47,
   "id": "801f0b41",
   "metadata": {},
   "outputs": [
    {
     "data": {
      "image/png": "[encoded data removed]",
      "text/plain": [
       "<Figure size 720x288 with 1 Axes>"
      ]
     },
     "metadata": {
      "needs_background": "light"
     },
     "output_type": "display_data"
    },
    {
     "data": {
      "image/png": "[encoded data removed]",
      "text/plain": [
       "<Figure size 720x288 with 1 Axes>"
      ]
     },
     "metadata": {
      "needs_background": "light"
     },
     "output_type": "display_data"
    },
    {
     "data": {
      "image/png": "[encoded data removed]",
      "text/plain": [
       "<Figure size 720x288 with 1 Axes>"
      ]
     },
     "metadata": {
      "needs_background": "light"
     },
     "output_type": "display_data"
    },
    {
     "data": {
      "image/png": "[encoded data removed]",
      "text/plain": [
       "<Figure size 720x288 with 1 Axes>"
      ]
     },
     "metadata": {
      "needs_background": "light"
     },
     "output_type": "display_data"
    }
   ],
   "source": [
    "dist_visitante_estra = list(map(lambda p_acum, indices: Gen_distr_discreta_mod(p_acum, indices, N, U_estra), p_acum_visitante, val_visitante))\n",
    "list(map(lambda dist, label: plot_histogram_discrete(dist, label), dist_visitante_estra, label_visitante));"
   ]
  },
  {
   "cell_type": "markdown",
   "id": "a0a16935",
   "metadata": {},
   "source": [
    "Se ve un mejor ajuste ahora en los nodos con la reducción de varianza con números complementarios."
   ]
  },
  {
   "cell_type": "markdown",
   "id": "88f556f2",
   "metadata": {},
   "source": [
    "### Simular"
   ]
  },
  {
   "cell_type": "markdown",
   "id": "4875456c",
   "metadata": {},
   "source": [
    "Simulamos ambos procesos (partidos de local y de visitante)"
   ]
  },
  {
   "cell_type": "code",
   "execution_count": 14,
   "id": "caa0b605",
   "metadata": {},
   "outputs": [],
   "source": [
    "sim_local = list(map(lambda p_acum, indices: Gen_distr_discreta_mod(p_acum, indices, N, U_estra), p_acum_local, val_local))\n",
    "sim_visitante = list(map(lambda p_acum, indices: Gen_distr_discreta_mod(p_acum, indices, N, U_estra), p_acum_visitante, val_visitante))"
   ]
  },
  {
   "cell_type": "markdown",
   "id": "0b1fb559",
   "metadata": {},
   "source": [
    "Empezamos con los partidos de local, una vez que se simulan los cuatro nodos que influyen se suman los nodos de goles de cada tiempo para cada equipo (local y visitante). Luego se le asignan los puntos a cada equipo dependiendo de cuantos goles obtuvo cada equipo."
   ]
  },
  {
   "cell_type": "code",
   "execution_count": 39,
   "id": "fd4fdf92",
   "metadata": {},
   "outputs": [
    {
     "data": {
      "text/html": [
       "<div>\n",
       "<style scoped>\n",
       "    .dataframe tbody tr th:only-of-type {\n",
       "        vertical-align: middle;\n",
       "    }\n",
       "\n",
       "    .dataframe tbody tr th {\n",
       "        vertical-align: top;\n",
       "    }\n",
       "\n",
       "    .dataframe thead th {\n",
       "        text-align: right;\n",
       "    }\n",
       "</style>\n",
       "<table border=\"1\" class=\"dataframe\">\n",
       "  <thead>\n",
       "    <tr style=\"text-align: right;\">\n",
       "      <th></th>\n",
       "      <th>Home FH Goals</th>\n",
       "      <th>Away FH Goals</th>\n",
       "      <th>Home SH Goals</th>\n",
       "      <th>Away SH Goals</th>\n",
       "      <th>Home Goals</th>\n",
       "      <th>Away Goals</th>\n",
       "      <th>Home Points</th>\n",
       "      <th>Away Points</th>\n",
       "    </tr>\n",
       "  </thead>\n",
       "  <tbody>\n",
       "    <tr>\n",
       "      <th>0</th>\n",
       "      <td>0</td>\n",
       "      <td>0</td>\n",
       "      <td>0</td>\n",
       "      <td>0</td>\n",
       "      <td>0</td>\n",
       "      <td>0</td>\n",
       "      <td>1</td>\n",
       "      <td>1</td>\n",
       "    </tr>\n",
       "    <tr>\n",
       "      <th>1</th>\n",
       "      <td>0</td>\n",
       "      <td>0</td>\n",
       "      <td>0</td>\n",
       "      <td>0</td>\n",
       "      <td>0</td>\n",
       "      <td>0</td>\n",
       "      <td>1</td>\n",
       "      <td>1</td>\n",
       "    </tr>\n",
       "    <tr>\n",
       "      <th>2</th>\n",
       "      <td>0</td>\n",
       "      <td>0</td>\n",
       "      <td>0</td>\n",
       "      <td>0</td>\n",
       "      <td>0</td>\n",
       "      <td>0</td>\n",
       "      <td>1</td>\n",
       "      <td>1</td>\n",
       "    </tr>\n",
       "    <tr>\n",
       "      <th>3</th>\n",
       "      <td>1</td>\n",
       "      <td>1</td>\n",
       "      <td>1</td>\n",
       "      <td>1</td>\n",
       "      <td>2</td>\n",
       "      <td>2</td>\n",
       "      <td>1</td>\n",
       "      <td>1</td>\n",
       "    </tr>\n",
       "    <tr>\n",
       "      <th>4</th>\n",
       "      <td>0</td>\n",
       "      <td>0</td>\n",
       "      <td>0</td>\n",
       "      <td>0</td>\n",
       "      <td>0</td>\n",
       "      <td>0</td>\n",
       "      <td>1</td>\n",
       "      <td>1</td>\n",
       "    </tr>\n",
       "    <tr>\n",
       "      <th>...</th>\n",
       "      <td>...</td>\n",
       "      <td>...</td>\n",
       "      <td>...</td>\n",
       "      <td>...</td>\n",
       "      <td>...</td>\n",
       "      <td>...</td>\n",
       "      <td>...</td>\n",
       "      <td>...</td>\n",
       "    </tr>\n",
       "    <tr>\n",
       "      <th>19995</th>\n",
       "      <td>0</td>\n",
       "      <td>0</td>\n",
       "      <td>0</td>\n",
       "      <td>0</td>\n",
       "      <td>0</td>\n",
       "      <td>0</td>\n",
       "      <td>1</td>\n",
       "      <td>1</td>\n",
       "    </tr>\n",
       "    <tr>\n",
       "      <th>19996</th>\n",
       "      <td>0</td>\n",
       "      <td>0</td>\n",
       "      <td>0</td>\n",
       "      <td>0</td>\n",
       "      <td>0</td>\n",
       "      <td>0</td>\n",
       "      <td>1</td>\n",
       "      <td>1</td>\n",
       "    </tr>\n",
       "    <tr>\n",
       "      <th>19997</th>\n",
       "      <td>0</td>\n",
       "      <td>0</td>\n",
       "      <td>0</td>\n",
       "      <td>0</td>\n",
       "      <td>0</td>\n",
       "      <td>0</td>\n",
       "      <td>1</td>\n",
       "      <td>1</td>\n",
       "    </tr>\n",
       "    <tr>\n",
       "      <th>19998</th>\n",
       "      <td>0</td>\n",
       "      <td>0</td>\n",
       "      <td>0</td>\n",
       "      <td>0</td>\n",
       "      <td>0</td>\n",
       "      <td>0</td>\n",
       "      <td>1</td>\n",
       "      <td>1</td>\n",
       "    </tr>\n",
       "    <tr>\n",
       "      <th>19999</th>\n",
       "      <td>1</td>\n",
       "      <td>0</td>\n",
       "      <td>1</td>\n",
       "      <td>0</td>\n",
       "      <td>2</td>\n",
       "      <td>0</td>\n",
       "      <td>3</td>\n",
       "      <td>0</td>\n",
       "    </tr>\n",
       "  </tbody>\n",
       "</table>\n",
       "<p>20000 rows × 8 columns</p>\n",
       "</div>"
      ],
      "text/plain": [
       "       Home FH Goals  Away FH Goals  Home SH Goals  Away SH Goals  Home Goals  \\\n",
       "0                  0              0              0              0           0   \n",
       "1                  0              0              0              0           0   \n",
       "2                  0              0              0              0           0   \n",
       "3                  1              1              1              1           2   \n",
       "4                  0              0              0              0           0   \n",
       "...              ...            ...            ...            ...         ...   \n",
       "19995              0              0              0              0           0   \n",
       "19996              0              0              0              0           0   \n",
       "19997              0              0              0              0           0   \n",
       "19998              0              0              0              0           0   \n",
       "19999              1              0              1              0           2   \n",
       "\n",
       "       Away Goals  Home Points  Away Points  \n",
       "0               0            1            1  \n",
       "1               0            1            1  \n",
       "2               0            1            1  \n",
       "3               2            1            1  \n",
       "4               0            1            1  \n",
       "...           ...          ...          ...  \n",
       "19995           0            1            1  \n",
       "19996           0            1            1  \n",
       "19997           0            1            1  \n",
       "19998           0            1            1  \n",
       "19999           0            3            0  \n",
       "\n",
       "[20000 rows x 8 columns]"
      ]
     },
     "execution_count": 39,
     "metadata": {},
     "output_type": "execute_result"
    }
   ],
   "source": [
    "sim_local_df = pd.DataFrame(sim_local).T\n",
    "sim_local_df.columns = lista\n",
    "sim_local_df[\"Home Goals\"] = sim_local_df[\"Home FH Goals\"] + sim_local_df[\"Home SH Goals\"]\n",
    "sim_local_df[\"Away Goals\"] = sim_local_df[\"Away FH Goals\"] + sim_local_df[\"Away SH Goals\"]\n",
    "sim_local_df[\"Home Points\"] = np.select([(sim_local_df[\"Home Goals\"]>sim_local_df[\"Away Goals\"]), \n",
    "                                             (sim_local_df[\"Home Goals\"]==sim_local_df[\"Away Goals\"]),\n",
    "                                             (sim_local_df[\"Home Goals\"]<sim_local_df[\"Away Goals\"])],[3,1,0])\n",
    "sim_local_df[\"Away Points\"] = np.select([(sim_local_df[\"Away Goals\"]>sim_local_df[\"Home Goals\"]), \n",
    "                                             (sim_local_df[\"Away Goals\"]==sim_local_df[\"Home Goals\"]),\n",
    "                                             (sim_local_df[\"Away Goals\"]<sim_local_df[\"Home Goals\"])],[3,1,0])\n",
    "sim_visitante_df.index.name = \"Simulaciones\"\n",
    "sim_local_df"
   ]
  },
  {
   "cell_type": "markdown",
   "id": "3e6246a2",
   "metadata": {},
   "source": [
    "En este caso los puntos que nos importan son los del equipo local (Home Points) pues es como juega Milan estos partidos. A continuación se obtuvo la probabilidad después de las simulaciones de cuantos puntos se obtienen para el Milan. Luego se multiplicó la probabilidad por los partidos que se juegan de local (19 partidos) y se obtuvieron los siguientes resultados."
   ]
  },
  {
   "cell_type": "code",
   "execution_count": 25,
   "id": "1c5ce284",
   "metadata": {},
   "outputs": [
    {
     "data": {
      "text/html": [
       "<div>\n",
       "<style scoped>\n",
       "    .dataframe tbody tr th:only-of-type {\n",
       "        vertical-align: middle;\n",
       "    }\n",
       "\n",
       "    .dataframe tbody tr th {\n",
       "        vertical-align: top;\n",
       "    }\n",
       "\n",
       "    .dataframe thead th {\n",
       "        text-align: right;\n",
       "    }\n",
       "</style>\n",
       "<table border=\"1\" class=\"dataframe\">\n",
       "  <thead>\n",
       "    <tr style=\"text-align: right;\">\n",
       "      <th></th>\n",
       "      <th>Partidos</th>\n",
       "      <th>Puntos</th>\n",
       "      <th>Total</th>\n",
       "    </tr>\n",
       "  </thead>\n",
       "  <tbody>\n",
       "    <tr>\n",
       "      <th>Perdido</th>\n",
       "      <td>0</td>\n",
       "      <td>0</td>\n",
       "      <td>0</td>\n",
       "    </tr>\n",
       "    <tr>\n",
       "      <th>Empatado</th>\n",
       "      <td>9</td>\n",
       "      <td>1</td>\n",
       "      <td>9</td>\n",
       "    </tr>\n",
       "    <tr>\n",
       "      <th>Ganado</th>\n",
       "      <td>10</td>\n",
       "      <td>3</td>\n",
       "      <td>30</td>\n",
       "    </tr>\n",
       "  </tbody>\n",
       "</table>\n",
       "</div>"
      ],
      "text/plain": [
       "          Partidos  Puntos  Total\n",
       "Perdido          0       0      0\n",
       "Empatado         9       1      9\n",
       "Ganado          10       3     30"
      ]
     },
     "execution_count": 25,
     "metadata": {},
     "output_type": "execute_result"
    }
   ],
   "source": [
    "puntos = [0, 1, 3]\n",
    "partidos_local = [round((sim_local_df[sim_local_df[\"Home Points\"] == i][\"Home Points\"].count() / \n",
    "                             sim_local_df[\"Home Points\"].count())*19) for i in puntos]\n",
    "df_local_final = pd.DataFrame({\n",
    "    \"Partidos\": partidos_local,\n",
    "    \"Puntos\": puntos,\n",
    "})\n",
    "df_local_final.index = [\"Perdido\",\"Empatado\",\"Ganado\"]\n",
    "df_local_final[\"Total\"] = df_local_final[\"Partidos\"]*df_local_final[\"Puntos\"]\n",
    "\n",
    "df_local_final"
   ]
  },
  {
   "cell_type": "markdown",
   "id": "d9ce4fa4",
   "metadata": {},
   "source": [
    "Después de las 10,000 simulaciones se obtuvo una pequeña ventaja a ganar los partidos, seguido por los empates y con 0% de probabilidad de perder. "
   ]
  },
  {
   "cell_type": "markdown",
   "id": "a892cca3",
   "metadata": {},
   "source": [
    "Ahora repetimos el proceso pero con los partidos del Milan como visitante"
   ]
  },
  {
   "cell_type": "code",
   "execution_count": 41,
   "id": "880294e8",
   "metadata": {},
   "outputs": [
    {
     "data": {
      "text/html": [
       "<div>\n",
       "<style scoped>\n",
       "    .dataframe tbody tr th:only-of-type {\n",
       "        vertical-align: middle;\n",
       "    }\n",
       "\n",
       "    .dataframe tbody tr th {\n",
       "        vertical-align: top;\n",
       "    }\n",
       "\n",
       "    .dataframe thead th {\n",
       "        text-align: right;\n",
       "    }\n",
       "</style>\n",
       "<table border=\"1\" class=\"dataframe\">\n",
       "  <thead>\n",
       "    <tr style=\"text-align: right;\">\n",
       "      <th></th>\n",
       "      <th>Home FH Goals</th>\n",
       "      <th>Away FH Goals</th>\n",
       "      <th>Home SH Goals</th>\n",
       "      <th>Away SH Goals</th>\n",
       "      <th>Home Goals</th>\n",
       "      <th>Away Goals</th>\n",
       "      <th>Home Points</th>\n",
       "      <th>Away Points</th>\n",
       "    </tr>\n",
       "    <tr>\n",
       "      <th>Simulaciones</th>\n",
       "      <th></th>\n",
       "      <th></th>\n",
       "      <th></th>\n",
       "      <th></th>\n",
       "      <th></th>\n",
       "      <th></th>\n",
       "      <th></th>\n",
       "      <th></th>\n",
       "    </tr>\n",
       "  </thead>\n",
       "  <tbody>\n",
       "    <tr>\n",
       "      <th>0</th>\n",
       "      <td>0</td>\n",
       "      <td>0</td>\n",
       "      <td>0</td>\n",
       "      <td>0</td>\n",
       "      <td>0</td>\n",
       "      <td>0</td>\n",
       "      <td>1</td>\n",
       "      <td>1</td>\n",
       "    </tr>\n",
       "    <tr>\n",
       "      <th>1</th>\n",
       "      <td>0</td>\n",
       "      <td>0</td>\n",
       "      <td>0</td>\n",
       "      <td>0</td>\n",
       "      <td>0</td>\n",
       "      <td>0</td>\n",
       "      <td>1</td>\n",
       "      <td>1</td>\n",
       "    </tr>\n",
       "    <tr>\n",
       "      <th>2</th>\n",
       "      <td>0</td>\n",
       "      <td>0</td>\n",
       "      <td>0</td>\n",
       "      <td>0</td>\n",
       "      <td>0</td>\n",
       "      <td>0</td>\n",
       "      <td>1</td>\n",
       "      <td>1</td>\n",
       "    </tr>\n",
       "    <tr>\n",
       "      <th>3</th>\n",
       "      <td>1</td>\n",
       "      <td>1</td>\n",
       "      <td>1</td>\n",
       "      <td>1</td>\n",
       "      <td>2</td>\n",
       "      <td>2</td>\n",
       "      <td>1</td>\n",
       "      <td>1</td>\n",
       "    </tr>\n",
       "    <tr>\n",
       "      <th>4</th>\n",
       "      <td>0</td>\n",
       "      <td>0</td>\n",
       "      <td>0</td>\n",
       "      <td>0</td>\n",
       "      <td>0</td>\n",
       "      <td>0</td>\n",
       "      <td>1</td>\n",
       "      <td>1</td>\n",
       "    </tr>\n",
       "    <tr>\n",
       "      <th>...</th>\n",
       "      <td>...</td>\n",
       "      <td>...</td>\n",
       "      <td>...</td>\n",
       "      <td>...</td>\n",
       "      <td>...</td>\n",
       "      <td>...</td>\n",
       "      <td>...</td>\n",
       "      <td>...</td>\n",
       "    </tr>\n",
       "    <tr>\n",
       "      <th>19995</th>\n",
       "      <td>0</td>\n",
       "      <td>0</td>\n",
       "      <td>0</td>\n",
       "      <td>0</td>\n",
       "      <td>0</td>\n",
       "      <td>0</td>\n",
       "      <td>1</td>\n",
       "      <td>1</td>\n",
       "    </tr>\n",
       "    <tr>\n",
       "      <th>19996</th>\n",
       "      <td>0</td>\n",
       "      <td>0</td>\n",
       "      <td>0</td>\n",
       "      <td>0</td>\n",
       "      <td>0</td>\n",
       "      <td>0</td>\n",
       "      <td>1</td>\n",
       "      <td>1</td>\n",
       "    </tr>\n",
       "    <tr>\n",
       "      <th>19997</th>\n",
       "      <td>0</td>\n",
       "      <td>0</td>\n",
       "      <td>0</td>\n",
       "      <td>0</td>\n",
       "      <td>0</td>\n",
       "      <td>0</td>\n",
       "      <td>1</td>\n",
       "      <td>1</td>\n",
       "    </tr>\n",
       "    <tr>\n",
       "      <th>19998</th>\n",
       "      <td>0</td>\n",
       "      <td>0</td>\n",
       "      <td>0</td>\n",
       "      <td>0</td>\n",
       "      <td>0</td>\n",
       "      <td>0</td>\n",
       "      <td>1</td>\n",
       "      <td>1</td>\n",
       "    </tr>\n",
       "    <tr>\n",
       "      <th>19999</th>\n",
       "      <td>0</td>\n",
       "      <td>1</td>\n",
       "      <td>1</td>\n",
       "      <td>1</td>\n",
       "      <td>1</td>\n",
       "      <td>2</td>\n",
       "      <td>0</td>\n",
       "      <td>3</td>\n",
       "    </tr>\n",
       "  </tbody>\n",
       "</table>\n",
       "<p>20000 rows × 8 columns</p>\n",
       "</div>"
      ],
      "text/plain": [
       "              Home FH Goals  Away FH Goals  Home SH Goals  Away SH Goals  \\\n",
       "Simulaciones                                                               \n",
       "0                         0              0              0              0   \n",
       "1                         0              0              0              0   \n",
       "2                         0              0              0              0   \n",
       "3                         1              1              1              1   \n",
       "4                         0              0              0              0   \n",
       "...                     ...            ...            ...            ...   \n",
       "19995                     0              0              0              0   \n",
       "19996                     0              0              0              0   \n",
       "19997                     0              0              0              0   \n",
       "19998                     0              0              0              0   \n",
       "19999                     0              1              1              1   \n",
       "\n",
       "              Home Goals  Away Goals  Home Points  Away Points  \n",
       "Simulaciones                                                    \n",
       "0                      0           0            1            1  \n",
       "1                      0           0            1            1  \n",
       "2                      0           0            1            1  \n",
       "3                      2           2            1            1  \n",
       "4                      0           0            1            1  \n",
       "...                  ...         ...          ...          ...  \n",
       "19995                  0           0            1            1  \n",
       "19996                  0           0            1            1  \n",
       "19997                  0           0            1            1  \n",
       "19998                  0           0            1            1  \n",
       "19999                  1           2            0            3  \n",
       "\n",
       "[20000 rows x 8 columns]"
      ]
     },
     "execution_count": 41,
     "metadata": {},
     "output_type": "execute_result"
    }
   ],
   "source": [
    "sim_visitante_df = pd.DataFrame(sim_visitante).T\n",
    "sim_visitante_df.columns = lista\n",
    "sim_visitante_df[\"Home Goals\"] = sim_visitante_df[\"Home FH Goals\"] + sim_visitante_df[\"Home SH Goals\"]\n",
    "sim_visitante_df[\"Away Goals\"] = sim_visitante_df[\"Away FH Goals\"] + sim_visitante_df[\"Away SH Goals\"]\n",
    "sim_visitante_df[\"Home Points\"] = np.select([(sim_visitante_df[\"Home Goals\"]>sim_visitante_df[\"Away Goals\"]), \n",
    "                                             (sim_visitante_df[\"Home Goals\"]==sim_visitante_df[\"Away Goals\"]),\n",
    "                                             (sim_visitante_df[\"Home Goals\"]<sim_visitante_df[\"Away Goals\"])],[3,1,0])\n",
    "sim_visitante_df[\"Away Points\"] = np.select([(sim_visitante_df[\"Away Goals\"]>sim_visitante_df[\"Home Goals\"]), \n",
    "                                             (sim_visitante_df[\"Away Goals\"]==sim_visitante_df[\"Home Goals\"]),\n",
    "                                             (sim_visitante_df[\"Away Goals\"]<sim_visitante_df[\"Home Goals\"])],[3,1,0])\n",
    "\n",
    "sim_visitante_df.index.name = \"Simulaciones\"\n",
    "sim_visitante_df"
   ]
  },
  {
   "cell_type": "code",
   "execution_count": 27,
   "id": "907f72e2",
   "metadata": {},
   "outputs": [
    {
     "data": {
      "text/html": [
       "<div>\n",
       "<style scoped>\n",
       "    .dataframe tbody tr th:only-of-type {\n",
       "        vertical-align: middle;\n",
       "    }\n",
       "\n",
       "    .dataframe tbody tr th {\n",
       "        vertical-align: top;\n",
       "    }\n",
       "\n",
       "    .dataframe thead th {\n",
       "        text-align: right;\n",
       "    }\n",
       "</style>\n",
       "<table border=\"1\" class=\"dataframe\">\n",
       "  <thead>\n",
       "    <tr style=\"text-align: right;\">\n",
       "      <th></th>\n",
       "      <th>Partidos</th>\n",
       "      <th>Puntos</th>\n",
       "      <th>Total</th>\n",
       "    </tr>\n",
       "  </thead>\n",
       "  <tbody>\n",
       "    <tr>\n",
       "      <th>Perdido</th>\n",
       "      <td>0</td>\n",
       "      <td>0</td>\n",
       "      <td>0</td>\n",
       "    </tr>\n",
       "    <tr>\n",
       "      <th>Empatado</th>\n",
       "      <td>11</td>\n",
       "      <td>1</td>\n",
       "      <td>11</td>\n",
       "    </tr>\n",
       "    <tr>\n",
       "      <th>Ganado</th>\n",
       "      <td>8</td>\n",
       "      <td>3</td>\n",
       "      <td>24</td>\n",
       "    </tr>\n",
       "  </tbody>\n",
       "</table>\n",
       "</div>"
      ],
      "text/plain": [
       "          Partidos  Puntos  Total\n",
       "Perdido          0       0      0\n",
       "Empatado        11       1     11\n",
       "Ganado           8       3     24"
      ]
     },
     "execution_count": 27,
     "metadata": {},
     "output_type": "execute_result"
    }
   ],
   "source": [
    "partidos_visitante = [round((sim_visitante_df[sim_visitante_df[\"Away Points\"] == i][\"Away Points\"].count() / \n",
    "                             sim_visitante_df[\"Away Points\"].count())*19) for i in puntos]\n",
    "df_visitante_final = pd.DataFrame({\n",
    "    \"Partidos\": partidos_visitante,\n",
    "    \"Puntos\": puntos,\n",
    "})\n",
    "df_visitante_final.index = [\"Perdido\",\"Empatado\",\"Ganado\"]\n",
    "df_visitante_final[\"Total\"] = df_visitante_final[\"Partidos\"]*df_visitante_final[\"Puntos\"]\n",
    "df_visitante_final"
   ]
  },
  {
   "cell_type": "markdown",
   "id": "8a6255b9",
   "metadata": {},
   "source": [
    "Finalmente juntamos ambas simulaciones de los partidos."
   ]
  },
  {
   "cell_type": "code",
   "execution_count": 28,
   "id": "8ca65ef8",
   "metadata": {},
   "outputs": [
    {
     "data": {
      "text/html": [
       "<div>\n",
       "<style scoped>\n",
       "    .dataframe tbody tr th:only-of-type {\n",
       "        vertical-align: middle;\n",
       "    }\n",
       "\n",
       "    .dataframe tbody tr th {\n",
       "        vertical-align: top;\n",
       "    }\n",
       "\n",
       "    .dataframe thead tr th {\n",
       "        text-align: left;\n",
       "    }\n",
       "</style>\n",
       "<table border=\"1\" class=\"dataframe\">\n",
       "  <thead>\n",
       "    <tr>\n",
       "      <th></th>\n",
       "      <th colspan=\"3\" halign=\"left\">Local</th>\n",
       "      <th colspan=\"3\" halign=\"left\">Visitante</th>\n",
       "    </tr>\n",
       "    <tr>\n",
       "      <th></th>\n",
       "      <th>Partidos</th>\n",
       "      <th>Puntos</th>\n",
       "      <th>Total</th>\n",
       "      <th>Partidos</th>\n",
       "      <th>Puntos</th>\n",
       "      <th>Total</th>\n",
       "    </tr>\n",
       "  </thead>\n",
       "  <tbody>\n",
       "    <tr>\n",
       "      <th>Perdido</th>\n",
       "      <td>0</td>\n",
       "      <td>0</td>\n",
       "      <td>0</td>\n",
       "      <td>0</td>\n",
       "      <td>0</td>\n",
       "      <td>0</td>\n",
       "    </tr>\n",
       "    <tr>\n",
       "      <th>Empatado</th>\n",
       "      <td>9</td>\n",
       "      <td>1</td>\n",
       "      <td>9</td>\n",
       "      <td>11</td>\n",
       "      <td>1</td>\n",
       "      <td>11</td>\n",
       "    </tr>\n",
       "    <tr>\n",
       "      <th>Ganado</th>\n",
       "      <td>10</td>\n",
       "      <td>3</td>\n",
       "      <td>30</td>\n",
       "      <td>8</td>\n",
       "      <td>3</td>\n",
       "      <td>24</td>\n",
       "    </tr>\n",
       "  </tbody>\n",
       "</table>\n",
       "</div>"
      ],
      "text/plain": [
       "            Local              Visitante             \n",
       "         Partidos Puntos Total  Partidos Puntos Total\n",
       "Perdido         0      0     0         0      0     0\n",
       "Empatado        9      1     9        11      1    11\n",
       "Ganado         10      3    30         8      3    24"
      ]
     },
     "execution_count": 28,
     "metadata": {},
     "output_type": "execute_result"
    }
   ],
   "source": [
    "df_final = pd.concat([df_local_final, df_visitante_final], keys=[\"Local\", \"Visitante\"], axis=1)\n",
    "df_final"
   ]
  },
  {
   "cell_type": "code",
   "execution_count": 20,
   "id": "c5608fa9",
   "metadata": {},
   "outputs": [
    {
     "name": "stdout",
     "output_type": "stream",
     "text": [
      "Al final de las simulaciones se obtuvo que la cantidad de puntos que se espera para la siguiente temporada del Milan son 74\n"
     ]
    }
   ],
   "source": [
    "puntos_finales = (df_final[\"Local\"][\"Total\"] + df_final[\"Visitante\"][\"Total\"]).sum()\n",
    "print(f\"Al final de las simulaciones se obtuvo que la cantidad de puntos que se espera para la siguiente temporada del Milan son {puntos_finales}\")"
   ]
  },
  {
   "cell_type": "markdown",
   "id": "6aafb343",
   "metadata": {},
   "source": [
    "## Conclusiones y Visualización de Resultados"
   ]
  },
  {
   "cell_type": "markdown",
   "id": "3a21ef51",
   "metadata": {},
   "source": [
    "Para concluir podemos decir que despues de realizar las 10,000 simulaciones y sacar las probabilidades para interpretarlas mejor, primero en los locales no hubo probabilidades de que pierdan partidos, 52.63% de que ganen y 47.36% de que queden empate, y en las simulaciones de visitantes, tampoco hubo probabilidades de que pierdan, 57.89% de que empaten y 42.10% de que ganen.\n",
    "Y en conclusion de todo esto y contando los puntos por partido empatado y ganado, se espera que para la siguiente temporada del Milan obtengan 74 puntos en total."
   ]
  },
  {
   "cell_type": "code",
   "execution_count": null,
   "id": "8438dba7",
   "metadata": {},
   "outputs": [],
   "source": []
  }
 ],
 "metadata": {
  "kernelspec": {
   "display_name": "Python 3",
   "language": "python",
   "name": "python3"
  },
  "language_info": {
   "codemirror_mode": {
    "name": "ipython",
    "version": 3
   },
   "file_extension": ".py",
   "mimetype": "text/x-python",
   "name": "python",
   "nbconvert_exporter": "python",
   "pygments_lexer": "ipython3",
   "version": "3.8.8"
  }
 },
 "nbformat": 4,
 "nbformat_minor": 5
}
